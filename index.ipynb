{
 "cells": [
  {
   "cell_type": "code",
   "execution_count": null,
   "metadata": {},
   "outputs": [
    {
     "name": "stderr",
     "output_type": "stream",
     "text": [
      "/Users/AwotoroE-Dev/Desktop/structrelnet2/.venv/lib/python3.12/site-packages/tqdm/auto.py:21: TqdmWarning: IProgress not found. Please update jupyter and ipywidgets. See https://ipywidgets.readthedocs.io/en/stable/user_install.html\n",
      "  from .autonotebook import tqdm as notebook_tqdm\n"
     ]
    },
    {
     "name": "stdout",
     "output_type": "stream",
     "text": [
      "Loading dataset...\n",
      "Processing and saving data...\n",
      "Saved train split with 8150 tables.\n",
      "Saved val split with 906 tables.\n",
      "Saved test split with 2265 tables.\n"
     ]
    }
   ],
   "source": [
    "from data.data_loaders.wikitablequestions_dataset import WikiTableQuestionsDataset\n",
    "processor = WikiTableQuestionsDataset(output_dir=\"data/processed/wikitablequestions\")\n",
    "processor.run()"
   ]
  },
  {
   "cell_type": "code",
   "execution_count": null,
   "metadata": {},
   "outputs": [
    {
     "name": "stderr",
     "output_type": "stream",
     "text": [
      "/Users/AwotoroE-Dev/Desktop/structrelnet2/.venv/lib/python3.12/site-packages/tqdm/auto.py:21: TqdmWarning: IProgress not found. Please update jupyter and ipywidgets. See https://ipywidgets.readthedocs.io/en/stable/user_install.html\n",
      "  from .autonotebook import tqdm as notebook_tqdm\n"
     ]
    },
    {
     "name": "stdout",
     "output_type": "stream",
     "text": [
      "Loading dataset...\n",
      "Processing and saving data...\n",
      "Saved train split with 92283 examples.\n",
      "Saved val split with 12792 examples.\n",
      "Saved test split with 12779 examples.\n"
     ]
    }
   ],
   "source": [
    "from data.data_loaders.tabfact_dataset import TabFactDataset\n",
    "dataset = TabFactDataset(output_dir=\"data/processed/tabfact\")\n",
    "dataset.run()"
   ]
  },
  {
   "cell_type": "code",
   "execution_count": 1,
   "metadata": {},
   "outputs": [
    {
     "name": "stderr",
     "output_type": "stream",
     "text": [
      "/Users/AwotoroE-Dev/Desktop/structrelnet2/.venv/lib/python3.12/site-packages/tqdm/auto.py:21: TqdmWarning: IProgress not found. Please update jupyter and ipywidgets. See https://ipywidgets.readthedocs.io/en/stable/user_install.html\n",
      "  from .autonotebook import tqdm as notebook_tqdm\n"
     ]
    },
    {
     "name": "stdout",
     "output_type": "stream",
     "text": [
      "Loading dataset...\n",
      "Processing and saving data...\n",
      "Saved train split with 62682 examples.\n",
      "Saved val split with 3466 examples.\n",
      "Saved test split with 3463 examples.\n"
     ]
    }
   ],
   "source": [
    "from data.data_loaders.hybridqa_dataset import HybridQADataset\n",
    "dataset = HybridQADataset(output_dir=\"data/processed/hybridqa\")\n",
    "dataset.run()"
   ]
  },
  {
   "cell_type": "code",
   "execution_count": null,
   "metadata": {},
   "outputs": [],
   "source": [
    "\n",
    "from data.data_loaders.totto_dataset import ToTToDataset\n",
    "dataset = ToTToDataset(output_dir=\"data/processed/totto\")\n",
    "dataset.run()"
   ]
  },
  {
   "cell_type": "code",
   "execution_count": 1,
   "metadata": {},
   "outputs": [
    {
     "name": "stdout",
     "output_type": "stream",
     "text": [
      "Header: ['review_id', 'title', 'year', 'journal', 'n_studies', 'population', 'intervention', 'comparator', 'outcome', 'effect_size', 'ci_lower', 'ci_upper', 'quality_rating', 'database_source']\n",
      "Rows:\n",
      "['SR00001', 'Can contain cultural white.', '2004', 'Science', '31', 'Elderly', 'metformin', 'low dose', 'mortality', '0.75', '0.58', '0.88', 'Low', 'PubMed']\n",
      "['SR00002', 'Decade painting meeting air wall.', '2015', 'Nature', '63', 'Elderly', 'placebo', 'none', 'infection rate', '0.82', '0.61', '0.93', 'Critically Low', 'PubMed']\n",
      "['SR00003', 'Then more nation share always.', '2020', 'BMJ', '51', 'Adults', 'metformin', 'cephalosporin', 'smoking cessation', '1.05', '0.99', '1.24', 'Moderate', 'Web of Science']\n",
      "['SR00004', 'To improve travel.', '2024', 'JAMA', '44', 'Children', 'ACE inhibitors', 'standard care', 'weight loss', '1.87', '1.65', '2.03', 'High', 'PubMed']\n",
      "['SR00005', 'Blue throw lot American produce try keep.', '2011', 'BMJ', '91', 'Diabetics', 'statins', 'cephalosporin', 'mortality', '0.86', '0.66', '1.15', 'Critically Low', 'Web of Science']\n",
      "['SR00006', 'Understand debate box something result beyond.', '2008', 'Science', '22', 'Elderly', 'metformin', 'no therapy', 'symptom reduction', '1.45', '1.26', '1.63', 'Critically Low', 'Web of Science']\n",
      "['SR00007', 'Line among television senior idea news once rock.', '2015', 'BMJ', '33', 'Children', 'behavioral therapy', 'low dose', 'smoking cessation', '1.07', '1.01', '1.33', 'Moderate', 'PubMed']\n",
      "['SR00008', 'Seem age return his.', '2007', 'Lancet', '46', 'Pregnant women', 'metformin', 'no therapy', 'symptom reduction', '0.82', '0.73', '1.0', 'Critically Low', 'Cochrane']\n",
      "['SR00009', 'Rock clear answer.', '2022', 'PLOS ONE', '51', 'ICU patients', 'placebo', 'none', 'hospitalization', '0.81', '0.63', '1.0', 'Low', 'Embase']\n",
      "['SR00010', 'Message hold rather product would now.', '2009', 'NEJM', '68', 'Adults', 'mRNA vaccine', 'none', 'symptom reduction', '1.18', '1.0', '1.43', 'Low', 'LOVE']\n",
      "['SR00011', 'Hope chair traditional question doctor.', '2019', 'NEJM', '45', 'Pregnant women', 'metformin', 'placebo', 'mortality', '1.04', '0.87', '1.24', 'Moderate', 'Embase']\n",
      "['SR00012', 'Happy first charge.', '2002', 'Nature', '77', 'Smokers', 'metformin', 'cephalosporin', 'hospitalization', '0.66', '0.54', '0.91', 'Critically Low', 'Cochrane']\n",
      "['SR00013', 'Far machine decide suffer investment.', '2023', 'Science', '16', 'ICU patients', 'ACE inhibitors', 'low dose', 'hospitalization', '0.99', '0.87', '1.06', 'Low', 'Web of Science']\n",
      "['SR00014', 'Drug seem individual age difficult us owner.', '2002', 'Lancet', '40', 'Elderly', 'mRNA vaccine', 'none', 'hospitalization', '0.77', '0.55', '0.9', 'High', 'PubMed']\n",
      "['SR00015', 'Expert Republican certain.', '2006', 'Science', '73', 'ICU patients', 'placebo', 'cephalosporin', 'weight loss', '1.55', '1.28', '1.68', 'Low', 'LOVE']\n",
      "['SR00016', 'Across entire answer few arrive draw kind.', '2023', 'NEJM', '64', 'Adults', 'ACE inhibitors', 'standard care', 'weight loss', '1.09', '0.99', '1.21', 'Low', 'Ovid']\n",
      "['SR00017', 'Catch probably leave trial street class positive.', '2010', 'Nature', '18', 'Diabetics', 'behavioral therapy', 'standard care', 'weight loss', '1.06', '1.0', '1.34', 'High', 'Cochrane']\n",
      "['SR00018', 'Population concern market condition left true.', '2007', 'NEJM', '20', 'Smokers', 'metformin', 'low dose', 'mortality', '1.19', '1.12', '1.42', 'Low', 'Ovid']\n",
      "['SR00019', 'Establish method loss hard international court change.', '2003', 'JAMA', '43', 'Children', 'behavioral therapy', 'standard care', 'weight loss', '1.17', '1.03', '1.42', 'Critically Low', 'LOVE']\n"
     ]
    }
   ],
   "source": [
    "# test_parser.py\n",
    "\n",
    "from table_parser.table_factory import TableLoaderFactory\n",
    "\n",
    "if __name__ == \"__main__\":\n",
    "    table = TableLoaderFactory.load(\"data/raw/test.csv\")\n",
    "    print(\"Header:\", table.header)\n",
    "    print(\"Rows:\")\n",
    "    for row in table.rows:\n",
    "        print(row)\n"
   ]
  },
  {
   "cell_type": "code",
   "execution_count": 2,
   "metadata": {},
   "outputs": [
    {
     "name": "stdout",
     "output_type": "stream",
     "text": [
      "Inferred Types:\n",
      "review_id → categorical\n",
      "title → text\n",
      "year → numeric\n",
      "journal → categorical\n",
      "n_studies → numeric\n",
      "population → categorical\n",
      "intervention → categorical\n",
      "comparator → categorical\n",
      "outcome → categorical\n",
      "effect_size → numeric\n",
      "ci_lower → numeric\n",
      "ci_upper → numeric\n",
      "quality_rating → categorical\n",
      "database_source → categorical\n"
     ]
    }
   ],
   "source": [
    "# test_schema_infer.py\n",
    "\n",
    "from table_parser.table_factory import TableLoaderFactory\n",
    "from schema_inference.infer_schema import SchemaInferer\n",
    "\n",
    "table = TableLoaderFactory.load(\"data/raw/test.csv\")\n",
    "inferer = SchemaInferer()\n",
    "table = inferer.infer(table)\n",
    "\n",
    "print(\"Inferred Types:\")\n",
    "for h, t in zip(table.header, table.types):\n",
    "    print(f\"{h} → {t}\")\n"
   ]
  },
  {
   "cell_type": "code",
   "execution_count": 4,
   "metadata": {},
   "outputs": [
    {
     "name": "stdout",
     "output_type": "stream",
     "text": [
      "Graph has 18 nodes and 66 edges.\n"
     ]
    },
    {
     "data": {
      "application/vnd.plotly.v1+json": {
       "config": {
        "plotlyServerURL": "https://plot.ly"
       },
       "data": [
        {
         "hoverinfo": "none",
         "line": {
          "color": "#999",
          "width": 1.5
         },
         "mode": "lines",
         "type": "scatter",
         "x": [
          0.6094374877146682,
          0.5597848896052093,
          null,
          0.5597848896052093,
          0.07021874715991086,
          null,
          0.5597848896052093,
          -0.24465144598049873,
          null,
          0.5597848896052093,
          0.11924696749657943,
          null,
          -0.9992970209006239,
          -0.9282564741891369,
          null,
          -0.9282564741891369,
          -0.35821826730299233,
          null,
          -0.9282564741891369,
          -0.5745873127486532,
          null,
          -0.9282564741891369,
          -0.33547069711215666,
          null,
          0.7742027008656025,
          0.08255063756945381,
          null,
          0.08255063756945381,
          0.2974364690100425,
          null,
          0.08255063756945381,
          -0.07629046435534048,
          null,
          0.08255063756945381,
          0.3922932222098112,
          null,
          0.24848586749514565,
          0.07021874715991086,
          null,
          0.24848586749514565,
          -0.35821826730299233,
          null,
          0.24848586749514565,
          0.2974364690100425,
          null,
          0.07021874715991086,
          0.6094374877146682,
          null,
          0.07021874715991086,
          -0.35821826730299233,
          null,
          0.07021874715991086,
          0.2974364690100425,
          null,
          0.07021874715991086,
          -0.24465144598049873,
          null,
          0.07021874715991086,
          0.11924696749657943,
          null,
          -0.35821826730299233,
          -0.9992970209006239,
          null,
          -0.35821826730299233,
          0.07021874715991086,
          null,
          -0.35821826730299233,
          0.2974364690100425,
          null,
          -0.35821826730299233,
          -0.5745873127486532,
          null,
          -0.35821826730299233,
          -0.33547069711215666,
          null,
          0.2974364690100425,
          0.7742027008656025,
          null,
          0.2974364690100425,
          0.07021874715991086,
          null,
          0.2974364690100425,
          -0.35821826730299233,
          null,
          0.2974364690100425,
          -0.07629046435534048,
          null,
          0.2974364690100425,
          0.3922932222098112,
          null,
          -0.1043987936939773,
          -0.24465144598049873,
          null,
          -0.1043987936939773,
          -0.5745873127486532,
          null,
          -0.1043987936939773,
          -0.07629046435534048,
          null,
          -0.24465144598049873,
          0.6094374877146682,
          null,
          -0.24465144598049873,
          -0.5745873127486532,
          null,
          -0.24465144598049873,
          -0.07629046435534048,
          null,
          -0.24465144598049873,
          0.07021874715991086,
          null,
          -0.24465144598049873,
          0.11924696749657943,
          null,
          -0.5745873127486532,
          -0.9992970209006239,
          null,
          -0.5745873127486532,
          -0.24465144598049873,
          null,
          -0.5745873127486532,
          -0.07629046435534048,
          null,
          -0.5745873127486532,
          -0.35821826730299233,
          null,
          -0.5745873127486532,
          -0.33547069711215666,
          null,
          -0.07629046435534048,
          0.7742027008656025,
          null,
          -0.07629046435534048,
          -0.24465144598049873,
          null,
          -0.07629046435534048,
          -0.5745873127486532,
          null,
          -0.07629046435534048,
          0.2974364690100425,
          null,
          -0.07629046435534048,
          0.3922932222098112,
          null,
          0.4675134871569558,
          0.11924696749657943,
          null,
          0.4675134871569558,
          -0.33547069711215666,
          null,
          0.4675134871569558,
          0.3922932222098112,
          null,
          0.11924696749657943,
          0.6094374877146682,
          null,
          0.11924696749657943,
          -0.33547069711215666,
          null,
          0.11924696749657943,
          0.3922932222098112,
          null,
          0.11924696749657943,
          0.07021874715991086,
          null,
          0.11924696749657943,
          -0.24465144598049873,
          null,
          -0.33547069711215666,
          -0.9992970209006239,
          null,
          -0.33547069711215666,
          0.11924696749657943,
          null,
          -0.33547069711215666,
          0.3922932222098112,
          null,
          -0.33547069711215666,
          -0.35821826730299233,
          null,
          -0.33547069711215666,
          -0.5745873127486532,
          null,
          0.3922932222098112,
          0.7742027008656025,
          null,
          0.3922932222098112,
          0.11924696749657943,
          null,
          0.3922932222098112,
          -0.33547069711215666,
          null,
          0.3922932222098112,
          0.2974364690100425,
          null,
          0.3922932222098112,
          -0.07629046435534048,
          null
         ],
         "y": [
          0.8176141175892555,
          0.021290900499843227,
          null,
          0.021290900499843227,
          0.028319900715515493,
          null,
          0.021290900499843227,
          0.2546579703535269,
          null,
          0.021290900499843227,
          0.45295557115205853,
          null,
          -1,
          -0.40388287474541984,
          null,
          -0.40388287474541984,
          -0.5995554651264084,
          null,
          -0.40388287474541984,
          -0.3274466960815997,
          null,
          -0.40388287474541984,
          -0.2297059715104663,
          null,
          0.6739221911726145,
          0.7866188776696883,
          null,
          0.7866188776696883,
          0.062182237280381955,
          null,
          0.7866188776696883,
          0.4351923181565603,
          null,
          0.7866188776696883,
          0.3490444261434175,
          null,
          -0.6467304387192786,
          0.028319900715515493,
          null,
          -0.6467304387192786,
          -0.5995554651264084,
          null,
          -0.6467304387192786,
          0.062182237280381955,
          null,
          0.028319900715515493,
          0.8176141175892555,
          null,
          0.028319900715515493,
          -0.5995554651264084,
          null,
          0.028319900715515493,
          0.062182237280381955,
          null,
          0.028319900715515493,
          0.2546579703535269,
          null,
          0.028319900715515493,
          0.45295557115205853,
          null,
          -0.5995554651264084,
          -1,
          null,
          -0.5995554651264084,
          0.028319900715515493,
          null,
          -0.5995554651264084,
          0.062182237280381955,
          null,
          -0.5995554651264084,
          -0.3274466960815997,
          null,
          -0.5995554651264084,
          -0.2297059715104663,
          null,
          0.062182237280381955,
          0.6739221911726145,
          null,
          0.062182237280381955,
          0.028319900715515493,
          null,
          0.062182237280381955,
          -0.5995554651264084,
          null,
          0.062182237280381955,
          0.4351923181565603,
          null,
          0.062182237280381955,
          0.3490444261434175,
          null,
          -0.4295575677683109,
          0.2546579703535269,
          null,
          -0.4295575677683109,
          -0.3274466960815997,
          null,
          -0.4295575677683109,
          0.4351923181565603,
          null,
          0.2546579703535269,
          0.8176141175892555,
          null,
          0.2546579703535269,
          -0.3274466960815997,
          null,
          0.2546579703535269,
          0.4351923181565603,
          null,
          0.2546579703535269,
          0.028319900715515493,
          null,
          0.2546579703535269,
          0.45295557115205853,
          null,
          -0.3274466960815997,
          -1,
          null,
          -0.3274466960815997,
          0.2546579703535269,
          null,
          -0.3274466960815997,
          0.4351923181565603,
          null,
          -0.3274466960815997,
          -0.5995554651264084,
          null,
          -0.3274466960815997,
          -0.2297059715104663,
          null,
          0.4351923181565603,
          0.6739221911726145,
          null,
          0.4351923181565603,
          0.2546579703535269,
          null,
          0.4351923181565603,
          -0.3274466960815997,
          null,
          0.4351923181565603,
          0.062182237280381955,
          null,
          0.4351923181565603,
          0.3490444261434175,
          null,
          -0.24491949678137837,
          0.45295557115205853,
          null,
          -0.24491949678137837,
          -0.2297059715104663,
          null,
          -0.24491949678137837,
          0.3490444261434175,
          null,
          0.45295557115205853,
          0.8176141175892555,
          null,
          0.45295557115205853,
          -0.2297059715104663,
          null,
          0.45295557115205853,
          0.3490444261434175,
          null,
          0.45295557115205853,
          0.028319900715515493,
          null,
          0.45295557115205853,
          0.2546579703535269,
          null,
          -0.2297059715104663,
          -1,
          null,
          -0.2297059715104663,
          0.45295557115205853,
          null,
          -0.2297059715104663,
          0.3490444261434175,
          null,
          -0.2297059715104663,
          -0.5995554651264084,
          null,
          -0.2297059715104663,
          -0.3274466960815997,
          null,
          0.3490444261434175,
          0.6739221911726145,
          null,
          0.3490444261434175,
          0.45295557115205853,
          null,
          0.3490444261434175,
          -0.2297059715104663,
          null,
          0.3490444261434175,
          0.062182237280381955,
          null,
          0.3490444261434175,
          0.4351923181565603,
          null
         ]
        },
        {
         "hoverinfo": "text",
         "marker": {
          "color": "blue",
          "line": {
           "width": 2
          },
          "size": 14
         },
         "mode": "markers+text",
         "name": "header",
         "text": [
          "<b>HEADER</b>: name",
          "<b>HEADER</b>: age",
          "<b>HEADER</b>: country"
         ],
         "textposition": "top center",
         "type": "scatter",
         "x": [
          0.6094374877146682,
          -0.9992970209006239,
          0.7742027008656025
         ],
         "y": [
          0.8176141175892555,
          -1,
          0.6739221911726145
         ]
        },
        {
         "hoverinfo": "text",
         "marker": {
          "color": "green",
          "line": {
           "width": 2
          },
          "size": 14
         },
         "mode": "markers+text",
         "name": "column",
         "text": [
          "<b>COLUMN</b>: col_0",
          "<b>COLUMN</b>: col_1",
          "<b>COLUMN</b>: col_2"
         ],
         "textposition": "top center",
         "type": "scatter",
         "x": [
          0.5597848896052093,
          -0.9282564741891369,
          0.08255063756945381
         ],
         "y": [
          0.021290900499843227,
          -0.40388287474541984,
          0.7866188776696883
         ]
        },
        {
         "hoverinfo": "text",
         "marker": {
          "color": "orange",
          "line": {
           "width": 2
          },
          "size": 14
         },
         "mode": "markers+text",
         "name": "row",
         "text": [
          "<b>ROW</b>: row_0",
          "<b>ROW</b>: row_1",
          "<b>ROW</b>: row_2"
         ],
         "textposition": "top center",
         "type": "scatter",
         "x": [
          0.24848586749514565,
          -0.1043987936939773,
          0.4675134871569558
         ],
         "y": [
          -0.6467304387192786,
          -0.4295575677683109,
          -0.24491949678137837
         ]
        },
        {
         "hoverinfo": "text",
         "marker": {
          "color": "crimson",
          "line": {
           "width": 2
          },
          "size": 14
         },
         "mode": "markers+text",
         "name": "cell",
         "text": [
          "<b>CELL</b>: Alice",
          "<b>CELL</b>: 28",
          "<b>CELL</b>: USA",
          "<b>CELL</b>: Bob",
          "<b>CELL</b>: <EMPTY>",
          "<b>CELL</b>: Canada",
          "<b>CELL</b>: <EMPTY>",
          "<b>CELL</b>: 34",
          "<b>CELL</b>: UK"
         ],
         "textposition": "top center",
         "type": "scatter",
         "x": [
          0.07021874715991086,
          -0.35821826730299233,
          0.2974364690100425,
          -0.24465144598049873,
          -0.5745873127486532,
          -0.07629046435534048,
          0.11924696749657943,
          -0.33547069711215666,
          0.3922932222098112
         ],
         "y": [
          0.028319900715515493,
          -0.5995554651264084,
          0.062182237280381955,
          0.2546579703535269,
          -0.3274466960815997,
          0.4351923181565603,
          0.45295557115205853,
          -0.2297059715104663,
          0.3490444261434175
         ]
        }
       ],
       "layout": {
        "annotations": [
         {
          "showarrow": false,
          "text": "Drag nodes to explore structure",
          "x": 0.005,
          "xref": "paper",
          "y": -0.002,
          "yref": "paper"
         }
        ],
        "hovermode": "closest",
        "margin": {
         "b": 20,
         "l": 20,
         "r": 20,
         "t": 40
        },
        "plot_bgcolor": "white",
        "showlegend": true,
        "template": {
         "data": {
          "bar": [
           {
            "error_x": {
             "color": "#2a3f5f"
            },
            "error_y": {
             "color": "#2a3f5f"
            },
            "marker": {
             "line": {
              "color": "#E5ECF6",
              "width": 0.5
             },
             "pattern": {
              "fillmode": "overlay",
              "size": 10,
              "solidity": 0.2
             }
            },
            "type": "bar"
           }
          ],
          "barpolar": [
           {
            "marker": {
             "line": {
              "color": "#E5ECF6",
              "width": 0.5
             },
             "pattern": {
              "fillmode": "overlay",
              "size": 10,
              "solidity": 0.2
             }
            },
            "type": "barpolar"
           }
          ],
          "carpet": [
           {
            "aaxis": {
             "endlinecolor": "#2a3f5f",
             "gridcolor": "white",
             "linecolor": "white",
             "minorgridcolor": "white",
             "startlinecolor": "#2a3f5f"
            },
            "baxis": {
             "endlinecolor": "#2a3f5f",
             "gridcolor": "white",
             "linecolor": "white",
             "minorgridcolor": "white",
             "startlinecolor": "#2a3f5f"
            },
            "type": "carpet"
           }
          ],
          "choropleth": [
           {
            "colorbar": {
             "outlinewidth": 0,
             "ticks": ""
            },
            "type": "choropleth"
           }
          ],
          "contour": [
           {
            "colorbar": {
             "outlinewidth": 0,
             "ticks": ""
            },
            "colorscale": [
             [
              0,
              "#0d0887"
             ],
             [
              0.1111111111111111,
              "#46039f"
             ],
             [
              0.2222222222222222,
              "#7201a8"
             ],
             [
              0.3333333333333333,
              "#9c179e"
             ],
             [
              0.4444444444444444,
              "#bd3786"
             ],
             [
              0.5555555555555556,
              "#d8576b"
             ],
             [
              0.6666666666666666,
              "#ed7953"
             ],
             [
              0.7777777777777778,
              "#fb9f3a"
             ],
             [
              0.8888888888888888,
              "#fdca26"
             ],
             [
              1,
              "#f0f921"
             ]
            ],
            "type": "contour"
           }
          ],
          "contourcarpet": [
           {
            "colorbar": {
             "outlinewidth": 0,
             "ticks": ""
            },
            "type": "contourcarpet"
           }
          ],
          "heatmap": [
           {
            "colorbar": {
             "outlinewidth": 0,
             "ticks": ""
            },
            "colorscale": [
             [
              0,
              "#0d0887"
             ],
             [
              0.1111111111111111,
              "#46039f"
             ],
             [
              0.2222222222222222,
              "#7201a8"
             ],
             [
              0.3333333333333333,
              "#9c179e"
             ],
             [
              0.4444444444444444,
              "#bd3786"
             ],
             [
              0.5555555555555556,
              "#d8576b"
             ],
             [
              0.6666666666666666,
              "#ed7953"
             ],
             [
              0.7777777777777778,
              "#fb9f3a"
             ],
             [
              0.8888888888888888,
              "#fdca26"
             ],
             [
              1,
              "#f0f921"
             ]
            ],
            "type": "heatmap"
           }
          ],
          "histogram": [
           {
            "marker": {
             "pattern": {
              "fillmode": "overlay",
              "size": 10,
              "solidity": 0.2
             }
            },
            "type": "histogram"
           }
          ],
          "histogram2d": [
           {
            "colorbar": {
             "outlinewidth": 0,
             "ticks": ""
            },
            "colorscale": [
             [
              0,
              "#0d0887"
             ],
             [
              0.1111111111111111,
              "#46039f"
             ],
             [
              0.2222222222222222,
              "#7201a8"
             ],
             [
              0.3333333333333333,
              "#9c179e"
             ],
             [
              0.4444444444444444,
              "#bd3786"
             ],
             [
              0.5555555555555556,
              "#d8576b"
             ],
             [
              0.6666666666666666,
              "#ed7953"
             ],
             [
              0.7777777777777778,
              "#fb9f3a"
             ],
             [
              0.8888888888888888,
              "#fdca26"
             ],
             [
              1,
              "#f0f921"
             ]
            ],
            "type": "histogram2d"
           }
          ],
          "histogram2dcontour": [
           {
            "colorbar": {
             "outlinewidth": 0,
             "ticks": ""
            },
            "colorscale": [
             [
              0,
              "#0d0887"
             ],
             [
              0.1111111111111111,
              "#46039f"
             ],
             [
              0.2222222222222222,
              "#7201a8"
             ],
             [
              0.3333333333333333,
              "#9c179e"
             ],
             [
              0.4444444444444444,
              "#bd3786"
             ],
             [
              0.5555555555555556,
              "#d8576b"
             ],
             [
              0.6666666666666666,
              "#ed7953"
             ],
             [
              0.7777777777777778,
              "#fb9f3a"
             ],
             [
              0.8888888888888888,
              "#fdca26"
             ],
             [
              1,
              "#f0f921"
             ]
            ],
            "type": "histogram2dcontour"
           }
          ],
          "mesh3d": [
           {
            "colorbar": {
             "outlinewidth": 0,
             "ticks": ""
            },
            "type": "mesh3d"
           }
          ],
          "parcoords": [
           {
            "line": {
             "colorbar": {
              "outlinewidth": 0,
              "ticks": ""
             }
            },
            "type": "parcoords"
           }
          ],
          "pie": [
           {
            "automargin": true,
            "type": "pie"
           }
          ],
          "scatter": [
           {
            "fillpattern": {
             "fillmode": "overlay",
             "size": 10,
             "solidity": 0.2
            },
            "type": "scatter"
           }
          ],
          "scatter3d": [
           {
            "line": {
             "colorbar": {
              "outlinewidth": 0,
              "ticks": ""
             }
            },
            "marker": {
             "colorbar": {
              "outlinewidth": 0,
              "ticks": ""
             }
            },
            "type": "scatter3d"
           }
          ],
          "scattercarpet": [
           {
            "marker": {
             "colorbar": {
              "outlinewidth": 0,
              "ticks": ""
             }
            },
            "type": "scattercarpet"
           }
          ],
          "scattergeo": [
           {
            "marker": {
             "colorbar": {
              "outlinewidth": 0,
              "ticks": ""
             }
            },
            "type": "scattergeo"
           }
          ],
          "scattergl": [
           {
            "marker": {
             "colorbar": {
              "outlinewidth": 0,
              "ticks": ""
             }
            },
            "type": "scattergl"
           }
          ],
          "scattermap": [
           {
            "marker": {
             "colorbar": {
              "outlinewidth": 0,
              "ticks": ""
             }
            },
            "type": "scattermap"
           }
          ],
          "scattermapbox": [
           {
            "marker": {
             "colorbar": {
              "outlinewidth": 0,
              "ticks": ""
             }
            },
            "type": "scattermapbox"
           }
          ],
          "scatterpolar": [
           {
            "marker": {
             "colorbar": {
              "outlinewidth": 0,
              "ticks": ""
             }
            },
            "type": "scatterpolar"
           }
          ],
          "scatterpolargl": [
           {
            "marker": {
             "colorbar": {
              "outlinewidth": 0,
              "ticks": ""
             }
            },
            "type": "scatterpolargl"
           }
          ],
          "scatterternary": [
           {
            "marker": {
             "colorbar": {
              "outlinewidth": 0,
              "ticks": ""
             }
            },
            "type": "scatterternary"
           }
          ],
          "surface": [
           {
            "colorbar": {
             "outlinewidth": 0,
             "ticks": ""
            },
            "colorscale": [
             [
              0,
              "#0d0887"
             ],
             [
              0.1111111111111111,
              "#46039f"
             ],
             [
              0.2222222222222222,
              "#7201a8"
             ],
             [
              0.3333333333333333,
              "#9c179e"
             ],
             [
              0.4444444444444444,
              "#bd3786"
             ],
             [
              0.5555555555555556,
              "#d8576b"
             ],
             [
              0.6666666666666666,
              "#ed7953"
             ],
             [
              0.7777777777777778,
              "#fb9f3a"
             ],
             [
              0.8888888888888888,
              "#fdca26"
             ],
             [
              1,
              "#f0f921"
             ]
            ],
            "type": "surface"
           }
          ],
          "table": [
           {
            "cells": {
             "fill": {
              "color": "#EBF0F8"
             },
             "line": {
              "color": "white"
             }
            },
            "header": {
             "fill": {
              "color": "#C8D4E3"
             },
             "line": {
              "color": "white"
             }
            },
            "type": "table"
           }
          ]
         },
         "layout": {
          "annotationdefaults": {
           "arrowcolor": "#2a3f5f",
           "arrowhead": 0,
           "arrowwidth": 1
          },
          "autotypenumbers": "strict",
          "coloraxis": {
           "colorbar": {
            "outlinewidth": 0,
            "ticks": ""
           }
          },
          "colorscale": {
           "diverging": [
            [
             0,
             "#8e0152"
            ],
            [
             0.1,
             "#c51b7d"
            ],
            [
             0.2,
             "#de77ae"
            ],
            [
             0.3,
             "#f1b6da"
            ],
            [
             0.4,
             "#fde0ef"
            ],
            [
             0.5,
             "#f7f7f7"
            ],
            [
             0.6,
             "#e6f5d0"
            ],
            [
             0.7,
             "#b8e186"
            ],
            [
             0.8,
             "#7fbc41"
            ],
            [
             0.9,
             "#4d9221"
            ],
            [
             1,
             "#276419"
            ]
           ],
           "sequential": [
            [
             0,
             "#0d0887"
            ],
            [
             0.1111111111111111,
             "#46039f"
            ],
            [
             0.2222222222222222,
             "#7201a8"
            ],
            [
             0.3333333333333333,
             "#9c179e"
            ],
            [
             0.4444444444444444,
             "#bd3786"
            ],
            [
             0.5555555555555556,
             "#d8576b"
            ],
            [
             0.6666666666666666,
             "#ed7953"
            ],
            [
             0.7777777777777778,
             "#fb9f3a"
            ],
            [
             0.8888888888888888,
             "#fdca26"
            ],
            [
             1,
             "#f0f921"
            ]
           ],
           "sequentialminus": [
            [
             0,
             "#0d0887"
            ],
            [
             0.1111111111111111,
             "#46039f"
            ],
            [
             0.2222222222222222,
             "#7201a8"
            ],
            [
             0.3333333333333333,
             "#9c179e"
            ],
            [
             0.4444444444444444,
             "#bd3786"
            ],
            [
             0.5555555555555556,
             "#d8576b"
            ],
            [
             0.6666666666666666,
             "#ed7953"
            ],
            [
             0.7777777777777778,
             "#fb9f3a"
            ],
            [
             0.8888888888888888,
             "#fdca26"
            ],
            [
             1,
             "#f0f921"
            ]
           ]
          },
          "colorway": [
           "#636efa",
           "#EF553B",
           "#00cc96",
           "#ab63fa",
           "#FFA15A",
           "#19d3f3",
           "#FF6692",
           "#B6E880",
           "#FF97FF",
           "#FECB52"
          ],
          "font": {
           "color": "#2a3f5f"
          },
          "geo": {
           "bgcolor": "white",
           "lakecolor": "white",
           "landcolor": "#E5ECF6",
           "showlakes": true,
           "showland": true,
           "subunitcolor": "white"
          },
          "hoverlabel": {
           "align": "left"
          },
          "hovermode": "closest",
          "mapbox": {
           "style": "light"
          },
          "paper_bgcolor": "white",
          "plot_bgcolor": "#E5ECF6",
          "polar": {
           "angularaxis": {
            "gridcolor": "white",
            "linecolor": "white",
            "ticks": ""
           },
           "bgcolor": "#E5ECF6",
           "radialaxis": {
            "gridcolor": "white",
            "linecolor": "white",
            "ticks": ""
           }
          },
          "scene": {
           "xaxis": {
            "backgroundcolor": "#E5ECF6",
            "gridcolor": "white",
            "gridwidth": 2,
            "linecolor": "white",
            "showbackground": true,
            "ticks": "",
            "zerolinecolor": "white"
           },
           "yaxis": {
            "backgroundcolor": "#E5ECF6",
            "gridcolor": "white",
            "gridwidth": 2,
            "linecolor": "white",
            "showbackground": true,
            "ticks": "",
            "zerolinecolor": "white"
           },
           "zaxis": {
            "backgroundcolor": "#E5ECF6",
            "gridcolor": "white",
            "gridwidth": 2,
            "linecolor": "white",
            "showbackground": true,
            "ticks": "",
            "zerolinecolor": "white"
           }
          },
          "shapedefaults": {
           "line": {
            "color": "#2a3f5f"
           }
          },
          "ternary": {
           "aaxis": {
            "gridcolor": "white",
            "linecolor": "white",
            "ticks": ""
           },
           "baxis": {
            "gridcolor": "white",
            "linecolor": "white",
            "ticks": ""
           },
           "bgcolor": "#E5ECF6",
           "caxis": {
            "gridcolor": "white",
            "linecolor": "white",
            "ticks": ""
           }
          },
          "title": {
           "x": 0.05
          },
          "xaxis": {
           "automargin": true,
           "gridcolor": "white",
           "linecolor": "white",
           "ticks": "",
           "title": {
            "standoff": 15
           },
           "zerolinecolor": "white",
           "zerolinewidth": 2
          },
          "yaxis": {
           "automargin": true,
           "gridcolor": "white",
           "linecolor": "white",
           "ticks": "",
           "title": {
            "standoff": 15
           },
           "zerolinecolor": "white",
           "zerolinewidth": 2
          }
         }
        },
        "title": {
         "font": {
          "size": 20
         },
         "text": "StructRelGraph: test.tsv"
        },
        "xaxis": {
         "showgrid": false,
         "showticklabels": false,
         "zeroline": false
        },
        "yaxis": {
         "showgrid": false,
         "showticklabels": false,
         "zeroline": false
        }
       }
      }
     },
     "metadata": {},
     "output_type": "display_data"
    }
   ],
   "source": [
    "# test_structrel_graph.py\n",
    "\n",
    "from table_parser.table_factory import TableLoaderFactory\n",
    "from schema_inference.infer_schema import SchemaInferer\n",
    "from graph_builder.build_graph import StructRelGraphBuilder\n",
    "from graph_builder.visualize_graph import visualize_graph\n",
    "\n",
    "table = TableLoaderFactory.load(\"data/raw/test.tsv\")\n",
    "table = SchemaInferer().infer(table)\n",
    "\n",
    "builder = StructRelGraphBuilder()\n",
    "G = builder.build(table)\n",
    "\n",
    "print(f\"Graph has {G.number_of_nodes()} nodes and {G.number_of_edges()} edges.\")\n",
    "visualize_graph(G, title=\"StructRelGraph: test.tsv\")\n"
   ]
  },
  {
   "cell_type": "code",
   "execution_count": 5,
   "metadata": {},
   "outputs": [
    {
     "name": "stdout",
     "output_type": "stream",
     "text": [
      "✅ Saved GNN-only weights to checkpoints/gnn_module.pt\n"
     ]
    }
   ],
   "source": [
    "import torch\n",
    "\n",
    "# Load full StructRelNet checkpoint\n",
    "full_state = torch.load(\"checkpoints/pretrained_model.pt\", map_location=\"cpu\")\n",
    "\n",
    "# Extract only the GNN part\n",
    "gnn_state = {k.replace(\"gnn.\", \"\"): v for k, v in full_state.items() if k.startswith(\"gnn.\")}\n",
    "\n",
    "# Save to new file\n",
    "torch.save(gnn_state, \"checkpoints/gnn_module.pt\")\n",
    "print(\"✅ Saved GNN-only weights to checkpoints/gnn_module.pt\")\n"
   ]
  },
  {
   "cell_type": "code",
   "execution_count": null,
   "metadata": {},
   "outputs": [],
   "source": []
  }
 ],
 "metadata": {
  "kernelspec": {
   "display_name": ".venv",
   "language": "python",
   "name": "python3"
  },
  "language_info": {
   "codemirror_mode": {
    "name": "ipython",
    "version": 3
   },
   "file_extension": ".py",
   "mimetype": "text/x-python",
   "name": "python",
   "nbconvert_exporter": "python",
   "pygments_lexer": "ipython3",
   "version": "3.12.2"
  }
 },
 "nbformat": 4,
 "nbformat_minor": 2
}
