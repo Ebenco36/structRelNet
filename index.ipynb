{
 "cells": [
  {
   "cell_type": "code",
   "execution_count": null,
   "metadata": {},
   "outputs": [
    {
     "name": "stderr",
     "output_type": "stream",
     "text": [
      "/Users/AwotoroE-Dev/Desktop/structrelnet2/.venv/lib/python3.12/site-packages/tqdm/auto.py:21: TqdmWarning: IProgress not found. Please update jupyter and ipywidgets. See https://ipywidgets.readthedocs.io/en/stable/user_install.html\n",
      "  from .autonotebook import tqdm as notebook_tqdm\n"
     ]
    },
    {
     "name": "stdout",
     "output_type": "stream",
     "text": [
      "Loading dataset...\n",
      "Processing and saving data...\n",
      "Saved train split with 8150 tables.\n",
      "Saved val split with 906 tables.\n",
      "Saved test split with 2265 tables.\n"
     ]
    }
   ],
   "source": [
    "from data.data_loaders.wikitablequestions_dataset import WikiTableQuestionsDataset\n",
    "processor = WikiTableQuestionsDataset(output_dir=\"data/processed/wikitablequestions\")\n",
    "processor.run()"
   ]
  },
  {
   "cell_type": "code",
   "execution_count": null,
   "metadata": {},
   "outputs": [
    {
     "name": "stderr",
     "output_type": "stream",
     "text": [
      "/Users/AwotoroE-Dev/Desktop/structrelnet2/.venv/lib/python3.12/site-packages/tqdm/auto.py:21: TqdmWarning: IProgress not found. Please update jupyter and ipywidgets. See https://ipywidgets.readthedocs.io/en/stable/user_install.html\n",
      "  from .autonotebook import tqdm as notebook_tqdm\n"
     ]
    },
    {
     "name": "stdout",
     "output_type": "stream",
     "text": [
      "Loading dataset...\n",
      "Processing and saving data...\n",
      "Saved train split with 92283 examples.\n",
      "Saved val split with 12792 examples.\n",
      "Saved test split with 12779 examples.\n"
     ]
    }
   ],
   "source": [
    "from data.data_loaders.tabfact_dataset import TabFactDataset\n",
    "dataset = TabFactDataset(output_dir=\"data/processed/tabfact\")\n",
    "dataset.run()"
   ]
  },
  {
   "cell_type": "code",
   "execution_count": 1,
   "metadata": {},
   "outputs": [
    {
     "name": "stderr",
     "output_type": "stream",
     "text": [
      "/Users/AwotoroE-Dev/Desktop/structrelnet2/.venv/lib/python3.12/site-packages/tqdm/auto.py:21: TqdmWarning: IProgress not found. Please update jupyter and ipywidgets. See https://ipywidgets.readthedocs.io/en/stable/user_install.html\n",
      "  from .autonotebook import tqdm as notebook_tqdm\n"
     ]
    },
    {
     "name": "stdout",
     "output_type": "stream",
     "text": [
      "Loading dataset...\n",
      "Processing and saving data...\n",
      "Saved train split with 62682 examples.\n",
      "Saved val split with 3466 examples.\n",
      "Saved test split with 3463 examples.\n"
     ]
    }
   ],
   "source": [
    "from data.data_loaders.hybridqa_dataset import HybridQADataset\n",
    "dataset = HybridQADataset(output_dir=\"data/processed/hybridqa\")\n",
    "dataset.run()"
   ]
  },
  {
   "cell_type": "code",
   "execution_count": 1,
   "metadata": {},
   "outputs": [
    {
     "name": "stderr",
     "output_type": "stream",
     "text": [
      "/Users/AwotoroE-Dev/Desktop/structrelnet2/.venv/lib/python3.12/site-packages/tqdm/auto.py:21: TqdmWarning: IProgress not found. Please update jupyter and ipywidgets. See https://ipywidgets.readthedocs.io/en/stable/user_install.html\n",
      "  from .autonotebook import tqdm as notebook_tqdm\n"
     ]
    },
    {
     "name": "stdout",
     "output_type": "stream",
     "text": [
      "Loading dataset...\n",
      "Processing and saving data...\n",
      "⚠️ Skipping malformed table 4: 1 columns passed, passed data had 3 columns\n",
      "⚠️ Skipping malformed table 5: 6 columns passed, passed data had 5 columns\n",
      "⚠️ Skipping malformed table 8: 5 columns passed, passed data had 6 columns\n",
      "⚠️ Skipping malformed table 17: 1 columns passed, passed data had 3 columns\n",
      "⚠️ Skipping malformed table 21: 1 columns passed, passed data had 5 columns\n",
      "⚠️ Skipping malformed table 22: 5 columns passed, passed data had 11 columns\n",
      "⚠️ Skipping malformed table 23: 1 columns passed, passed data had 4 columns\n",
      "⚠️ Skipping malformed table 25: 1 columns passed, passed data had 4 columns\n",
      "⚠️ Skipping malformed table 34: 1 columns passed, passed data had 4 columns\n",
      "⚠️ Skipping malformed table 37: 8 columns passed, passed data had 9 columns\n",
      "⚠️ Skipping malformed table 40: 1 columns passed, passed data had 2 columns\n",
      "⚠️ Skipping malformed table 50: 1 columns passed, passed data had 4 columns\n",
      "⚠️ Skipping malformed table 53: 4 columns passed, passed data had 7 columns\n",
      "⚠️ Skipping malformed table 57: 8 columns passed, passed data had 10 columns\n",
      "⚠️ Skipping malformed table 60: 1 columns passed, passed data had 8 columns\n",
      "⚠️ Skipping malformed table 65: 3 columns passed, passed data had 18 columns\n",
      "⚠️ Skipping malformed table 71: 1 columns passed, passed data had 40 columns\n",
      "⚠️ Skipping malformed table 72: 5 columns passed, passed data had 11 columns\n",
      "⚠️ Skipping malformed table 74: 6 columns passed, passed data had 16 columns\n",
      "⚠️ Skipping malformed table 75: 1 columns passed, passed data had 2 columns\n",
      "⚠️ Skipping malformed table 80: 1 columns passed, passed data had 3 columns\n",
      "⚠️ Skipping malformed table 82: 1 columns passed, passed data had 29 columns\n",
      "⚠️ Skipping malformed table 83: 1 columns passed, passed data had 3 columns\n",
      "⚠️ Skipping malformed table 84: 6 columns passed, passed data had 8 columns\n",
      "⚠️ Skipping malformed table 90: 1 columns passed, passed data had 4 columns\n",
      "⚠️ Skipping malformed table 101: 8 columns passed, passed data had 9 columns\n",
      "⚠️ Skipping malformed table 103: 5 columns passed, passed data had 6 columns\n",
      "⚠️ Skipping malformed table 105: 4 columns passed, passed data had 6 columns\n",
      "⚠️ Skipping malformed table 106: 1 columns passed, passed data had 6 columns\n",
      "⚠️ Skipping malformed table 107: 7 columns passed, passed data had 11 columns\n",
      "⚠️ Skipping malformed table 109: 4 columns passed, passed data had 9 columns\n",
      "⚠️ Skipping malformed table 110: 1 columns passed, passed data had 4 columns\n",
      "⚠️ Skipping malformed table 113: 1 columns passed, passed data had 14 columns\n",
      "⚠️ Skipping malformed table 114: 1 columns passed, passed data had 8 columns\n",
      "⚠️ Skipping malformed table 115: 3 columns passed, passed data had 12 columns\n",
      "⚠️ Skipping malformed table 117: 5 columns passed, passed data had 6 columns\n",
      "⚠️ Skipping malformed table 121: 6 columns passed, passed data had 9 columns\n",
      "⚠️ Skipping malformed table 128: 1 columns passed, passed data had 8 columns\n",
      "⚠️ Skipping malformed table 137: 1 columns passed, passed data had 3 columns\n",
      "⚠️ Skipping malformed table 148: 1 columns passed, passed data had 4 columns\n",
      "⚠️ Skipping malformed table 154: 7 columns passed, passed data had 12 columns\n",
      "⚠️ Skipping malformed table 157: 6 columns passed, passed data had 7 columns\n",
      "⚠️ Skipping malformed table 158: 1 columns passed, passed data had 4 columns\n",
      "⚠️ Skipping malformed table 162: 1 columns passed, passed data had 8 columns\n",
      "⚠️ Skipping malformed table 163: 6 columns passed, passed data had 7 columns\n",
      "⚠️ Skipping malformed table 167: 4 columns passed, passed data had 5 columns\n",
      "⚠️ Skipping malformed table 177: 5 columns passed, passed data had 11 columns\n",
      "⚠️ Skipping malformed table 178: 4 columns passed, passed data had 7 columns\n",
      "⚠️ Skipping malformed table 179: 1 columns passed, passed data had 4 columns\n",
      "⚠️ Skipping malformed table 186: 1 columns passed, passed data had 4 columns\n",
      "⚠️ Skipping malformed table 188: 1 columns passed, passed data had 8 columns\n",
      "⚠️ Skipping malformed table 189: 1 columns passed, passed data had 14 columns\n",
      "⚠️ Skipping malformed table 190: 6 columns passed, passed data had 8 columns\n",
      "⚠️ Skipping malformed table 192: 7 columns passed, passed data had 9 columns\n",
      "⚠️ Skipping malformed table 193: 1 columns passed, passed data had 4 columns\n",
      "⚠️ Skipping malformed table 196: 8 columns passed, passed data had 9 columns\n",
      "⚠️ Skipping malformed table 197: 5 columns passed, passed data had 14 columns\n",
      "⚠️ Skipping malformed table 203: 2 columns passed, passed data had 5 columns\n",
      "⚠️ Skipping malformed table 205: 5 columns passed, passed data had 6 columns\n",
      "⚠️ Skipping malformed table 215: 1 columns passed, passed data had 4 columns\n",
      "⚠️ Skipping malformed table 216: 8 columns passed, passed data had 13 columns\n",
      "⚠️ Skipping malformed table 222: 1 columns passed, passed data had 12 columns\n",
      "⚠️ Skipping malformed table 223: 4 columns passed, passed data had 3 columns\n",
      "⚠️ Skipping malformed table 225: 1 columns passed, passed data had 4 columns\n",
      "⚠️ Skipping malformed table 228: 1 columns passed, passed data had 3 columns\n",
      "⚠️ Skipping malformed table 230: 7 columns passed, passed data had 8 columns\n",
      "⚠️ Skipping malformed table 232: 5 columns passed, passed data had 6 columns\n",
      "⚠️ Skipping malformed table 254: 1 columns passed, passed data had 12 columns\n",
      "⚠️ Skipping malformed table 255: 6 columns passed, passed data had 8 columns\n",
      "⚠️ Skipping malformed table 261: 5 columns passed, passed data had 8 columns\n",
      "⚠️ Skipping malformed table 262: 1 columns passed, passed data had 4 columns\n",
      "⚠️ Skipping malformed table 267: 1 columns passed, passed data had 4 columns\n",
      "⚠️ Skipping malformed table 270: 2 columns passed, passed data had 9 columns\n",
      "⚠️ Skipping malformed table 273: 5 columns passed, passed data had 6 columns\n",
      "⚠️ Skipping malformed table 279: 5 columns passed, passed data had 6 columns\n",
      "⚠️ Skipping malformed table 284: 1 columns passed, passed data had 3 columns\n",
      "⚠️ Skipping malformed table 286: 5 columns passed, passed data had 9 columns\n",
      "⚠️ Skipping malformed table 292: 10 columns passed, passed data had 17 columns\n",
      "⚠️ Skipping malformed table 293: 9 columns passed, passed data had 14 columns\n",
      "⚠️ Skipping malformed table 295: 5 columns passed, passed data had 11 columns\n",
      "⚠️ Skipping malformed table 299: 7 columns passed, passed data had 8 columns\n",
      "⚠️ Skipping malformed table 301: 1 columns passed, passed data had 3 columns\n",
      "⚠️ Skipping malformed table 305: 4 columns passed, passed data had 10 columns\n",
      "⚠️ Skipping malformed table 313: 1 columns passed, passed data had 9 columns\n",
      "⚠️ Skipping malformed table 315: 1 columns passed, passed data had 4 columns\n",
      "⚠️ Skipping malformed table 319: 3 columns passed, passed data had 5 columns\n",
      "⚠️ Skipping malformed table 322: 6 columns passed, passed data had 8 columns\n",
      "⚠️ Skipping malformed table 323: 1 columns passed, passed data had 4 columns\n",
      "⚠️ Skipping malformed table 324: 2 columns passed, passed data had 4 columns\n",
      "⚠️ Skipping malformed table 336: 1 columns passed, passed data had 14 columns\n",
      "⚠️ Skipping malformed table 337: 4 columns passed, passed data had 5 columns\n",
      "⚠️ Skipping malformed table 340: 1 columns passed, passed data had 14 columns\n",
      "⚠️ Skipping malformed table 344: 1 columns passed, passed data had 4 columns\n",
      "⚠️ Skipping malformed table 352: 5 columns passed, passed data had 24 columns\n",
      "⚠️ Skipping malformed table 353: 3 columns passed, passed data had 15 columns\n",
      "⚠️ Skipping malformed table 354: 1 columns passed, passed data had 3 columns\n",
      "⚠️ Skipping malformed table 355: 2 columns passed, passed data had 3 columns\n",
      "⚠️ Skipping malformed table 357: 1 columns passed, passed data had 11 columns\n",
      "⚠️ Skipping malformed table 362: 4 columns passed, passed data had 5 columns\n",
      "⚠️ Skipping malformed table 363: 1 columns passed, passed data had 14 columns\n",
      "⚠️ Skipping malformed table 370: 6 columns passed, passed data had 10 columns\n",
      "⚠️ Skipping malformed table 371: 5 columns passed, passed data had 13 columns\n",
      "⚠️ Skipping malformed table 373: 4 columns passed, passed data had 5 columns\n",
      "⚠️ Skipping malformed table 378: 1 columns passed, passed data had 4 columns\n",
      "⚠️ Skipping malformed table 382: 4 columns passed, passed data had 5 columns\n",
      "⚠️ Skipping malformed table 383: 6 columns passed, passed data had 14 columns\n",
      "⚠️ Skipping malformed table 386: 1 columns passed, passed data had 3 columns\n",
      "⚠️ Skipping malformed table 387: 1 columns passed, passed data had 3 columns\n",
      "⚠️ Skipping malformed table 391: 7 columns passed, passed data had 21 columns\n",
      "⚠️ Skipping malformed table 397: 6 columns passed, passed data had 13 columns\n",
      "⚠️ Skipping malformed table 398: 1 columns passed, passed data had 5 columns\n",
      "⚠️ Skipping malformed table 404: 1 columns passed, passed data had 3 columns\n",
      "⚠️ Skipping malformed table 405: 1 columns passed, passed data had 7 columns\n",
      "⚠️ Skipping malformed table 407: 6 columns passed, passed data had 9 columns\n",
      "⚠️ Skipping malformed table 411: 4 columns passed, passed data had 5 columns\n",
      "⚠️ Skipping malformed table 413: 4 columns passed, passed data had 10 columns\n",
      "⚠️ Skipping malformed table 416: 1 columns passed, passed data had 3 columns\n",
      "⚠️ Skipping malformed table 421: 9 columns passed, passed data had 20 columns\n",
      "⚠️ Skipping malformed table 430: 5 columns passed, passed data had 16 columns\n",
      "⚠️ Skipping malformed table 435: 3 columns passed, passed data had 12 columns\n",
      "⚠️ Skipping malformed table 448: 2 columns passed, passed data had 12 columns\n",
      "⚠️ Skipping malformed table 449: 1 columns passed, passed data had 4 columns\n",
      "⚠️ Skipping malformed table 464: 3 columns passed, passed data had 4 columns\n",
      "⚠️ Skipping malformed table 469: 5 columns passed, passed data had 14 columns\n",
      "⚠️ Skipping malformed table 471: 3 columns passed, passed data had 6 columns\n",
      "⚠️ Skipping malformed table 472: 5 columns passed, passed data had 6 columns\n",
      "⚠️ Skipping malformed table 474: 1 columns passed, passed data had 4 columns\n",
      "⚠️ Skipping malformed table 475: 6 columns passed, passed data had 11 columns\n",
      "⚠️ Skipping malformed table 479: 1 columns passed, passed data had 4 columns\n",
      "⚠️ Skipping malformed table 480: 4 columns passed, passed data had 5 columns\n",
      "⚠️ Skipping malformed table 487: 1 columns passed, passed data had 4 columns\n",
      "⚠️ Skipping malformed table 495: 3 columns passed, passed data had 12 columns\n",
      "⚠️ Skipping malformed table 497: 1 columns passed, passed data had 4 columns\n",
      "⚠️ Skipping malformed table 499: 8 columns passed, passed data had 9 columns\n",
      "Saved ToTTo train split with 365 tables.\n"
     ]
    }
   ],
   "source": [
    "\n",
    "from data.data_loaders.totto_dataset import ToTToDataset\n",
    "dataset = ToTToDataset(output_dir=\"data/processed/totto\")\n",
    "dataset.run()"
   ]
  },
  {
   "cell_type": "code",
   "execution_count": null,
   "metadata": {},
   "outputs": [],
   "source": []
  }
 ],
 "metadata": {
  "kernelspec": {
   "display_name": ".venv",
   "language": "python",
   "name": "python3"
  },
  "language_info": {
   "codemirror_mode": {
    "name": "ipython",
    "version": 3
   },
   "file_extension": ".py",
   "mimetype": "text/x-python",
   "name": "python",
   "nbconvert_exporter": "python",
   "pygments_lexer": "ipython3",
   "version": "3.12.2"
  }
 },
 "nbformat": 4,
 "nbformat_minor": 2
}
